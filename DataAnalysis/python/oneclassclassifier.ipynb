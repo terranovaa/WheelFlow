{
 "cells": [
  {
   "cell_type": "code",
   "execution_count": 56,
   "id": "f5a39b0f",
   "metadata": {
    "pycharm": {
     "name": "#%%\n"
    }
   },
   "outputs": [],
   "source": [
    "import pandas as pd\n",
    "df = pd.read_csv('../data/data.csv')"
   ]
  },
  {
   "cell_type": "code",
   "execution_count": 57,
   "id": "16714d9f",
   "metadata": {
    "pycharm": {
     "name": "#%%\n"
    }
   },
   "outputs": [],
   "source": [
    "df.iloc[:,-1].replace([0,1,2,3],[1,1,-1,-1], inplace=True)"
   ]
  },
  {
   "cell_type": "code",
   "execution_count": null,
   "id": "cf2c0790",
   "metadata": {
    "pycharm": {
     "name": "#%%\n"
    }
   },
   "outputs": [],
   "source": [
    "print(df)"
   ]
  },
  {
   "cell_type": "code",
   "execution_count": 58,
   "id": "a5b01a14",
   "metadata": {
    "pycharm": {
     "name": "#%%\n"
    }
   },
   "outputs": [],
   "source": [
    "X = df.iloc[:,:-1]\n",
    "y = df.iloc[:,-1]"
   ]
  },
  {
   "cell_type": "code",
   "execution_count": 60,
   "metadata": {
    "collapsed": false,
    "pycharm": {
     "name": "#%%\n"
    }
   },
   "outputs": [
    {
     "name": "stdout",
     "output_type": "stream",
     "text": [
      "For OneClassSVM with method= linear and nu= 0.1 we have mean= 0.491441510840347 and std= 0.1486414237448087\n",
      "For OneClassSVM with method= linear and nu= 0.6 we have mean= 0.5278316884999589 and std= 0.15670295849812763\n",
      "For OneClassSVM with method= poly and nu= 0.1 we have mean= 0.5157016292800882 and std= 0.15247806882617812\n",
      "For OneClassSVM with method= poly and nu= 0.6 we have mean= 0.5278316884999589 and std= 0.1546809001252301\n",
      "For OneClassSVM with method= rbf and nu= 0.1 we have mean= 0.5269736533201864 and std= 0.14067168737401844\n",
      "For OneClassSVM with method= rbf and nu= 0.6 we have mean= 0.5239207829074276 and std= 0.13424286882679137\n"
     ]
    }
   ],
   "source": [
    "from sklearn.model_selection import StratifiedKFold\n",
    "from sklearn.metrics import accuracy_score\n",
    "from sklearn.svm import OneClassSVM\n",
    "from statistics import mean, stdev\n",
    "import numpy as np\n",
    "import warnings\n",
    "warnings.filterwarnings(\"ignore\")\n",
    "\n",
    "def training(train, test, _, model):\n",
    "    y_train = train.iloc[:,-1]\n",
    "    x_train = train[y_train==1].iloc[:,:-1]\n",
    "    x_test = test.iloc[:,:-1]\n",
    "    y_test = test.iloc[:,-1]\n",
    "    model.fit(x_train)\n",
    "    yhat = model.predict(x_test)\n",
    "    score = accuracy_score(y_test, yhat)\n",
    "    scores.append(score)\n",
    "\n",
    "scores = []\n",
    "skf = StratifiedKFold(n_splits=10)\n",
    "for method in ['linear','poly','rbf']:\n",
    "    for nu in np.arange(0.1,1,0.5):\n",
    "        fold_no = 1\n",
    "        model = OneClassSVM(kernel=method, gamma=\"auto\", nu=nu)\n",
    "        for train_index,test_index in skf.split(X, y):\n",
    "            train = df.iloc[train_index,:]\n",
    "            test = df.iloc[test_index,:]\n",
    "            training(train, test, fold_no, model)\n",
    "            fold_no += 1\n",
    "        print(\"For OneClassSVM with method=\", method, \"and nu=\", nu, \"we have mean=\", mean(scores), \"and std=\",stdev(scores))"
   ]
  }
 ],
 "metadata": {
  "kernelspec": {
   "display_name": "Python 3 (ipykernel)",
   "language": "python",
   "name": "python3"
  },
  "language_info": {
   "codemirror_mode": {
    "name": "ipython",
    "version": 3
   },
   "file_extension": ".py",
   "mimetype": "text/x-python",
   "name": "python",
   "nbconvert_exporter": "python",
   "pygments_lexer": "ipython3",
   "version": "3.9.7"
  }
 },
 "nbformat": 4,
 "nbformat_minor": 5
}