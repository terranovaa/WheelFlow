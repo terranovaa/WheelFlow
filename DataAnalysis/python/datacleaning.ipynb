{
 "cells": [
  {
   "cell_type": "code",
   "execution_count": 5,
   "metadata": {
    "pycharm": {
     "name": "#%%\n"
    }
   },
   "outputs": [],
   "source": [
    "import pandas as pd\n",
    "df = pd.read_csv('../data/data.csv')"
   ]
  },
  {
   "cell_type": "code",
   "execution_count": 6,
   "metadata": {
    "pycharm": {
     "name": "#%%\n"
    }
   },
   "outputs": [
    {
     "name": "stdout",
     "output_type": "stream",
     "text": [
      "11678\n"
     ]
    }
   ],
   "source": [
    "print(len(df))"
   ]
  },
  {
   "cell_type": "code",
   "execution_count": null,
   "metadata": {
    "pycharm": {
     "name": "#%%\n"
    }
   },
   "outputs": [],
   "source": [
    "print(df)"
   ]
  },
  {
   "cell_type": "code",
   "execution_count": null,
   "metadata": {
    "pycharm": {
     "name": "#%%\n"
    }
   },
   "outputs": [],
   "source": [
    "count = 0;\n",
    "for index, row in df.iterrows():\n",
    "    for column in row:\n",
    "        if column == 0:\n",
    "            count = count + 1\n",
    "    if count >= (len(df.columns) - 2) * 2/3:\n",
    "        print(index, \" \", count)\n",
    "        df.drop(df.index[index],inplace = True)\n",
    "    count = 0"
   ]
  },
  {
   "cell_type": "code",
   "execution_count": null,
   "metadata": {
    "pycharm": {
     "name": "#%%\n"
    }
   },
   "outputs": [],
   "source": [
    "print(len(df))"
   ]
  },
  {
   "cell_type": "code",
   "execution_count": null,
   "metadata": {
    "pycharm": {
     "name": "#%%\n"
    }
   },
   "outputs": [],
   "source": [
    "import math \n",
    "df2 = pd.DataFrame(columns=['TIME', 'ACC', 'GYR', 'MAG', 'CLASS'])\n",
    "for index, row in df.iterrows():\n",
    "    d1 = math.sqrt(sum(row[i]**2 for i in [1,2,3]))\n",
    "    d2 = math.sqrt(sum(row[i]**2 for i in [4,5,6]))\n",
    "    d3 = math.sqrt(sum(row[i]**2 for i in [7,8,9]))\n",
    "    print(index)\n",
    "    df2 = df2.append({'TIME': row[0], 'ACC': d1, 'GYR': d2, 'MAG': d3, 'CLASS': row[10]}, ignore_index=True)\n",
    "print(df2)"
   ]
  },
  {
   "cell_type": "code",
   "execution_count": 23,
   "metadata": {
    "pycharm": {
     "name": "#%%\n"
    }
   },
   "outputs": [
    {
     "name": "stdout",
     "output_type": "stream",
     "text": [
      "745911\n"
     ]
    }
   ],
   "source": [
    "print(len(df2))"
   ]
  },
  {
   "cell_type": "code",
   "execution_count": null,
   "metadata": {
    "pycharm": {
     "name": "#%%\n"
    }
   },
   "outputs": [],
   "source": [
    "import seaborn as sns\n",
    "sns.boxplot(data=df2.iloc[:,1:4])"
   ]
  },
  {
   "cell_type": "code",
   "execution_count": null,
   "metadata": {
    "pycharm": {
     "name": "#%%\n"
    }
   },
   "outputs": [],
   "source": [
    "# Outlier Detection\n",
    "print(df.shape)\n",
    "Q1 = df2.iloc[:,1:4].quantile(0.25)\n",
    "Q3 = df2.iloc[:,1:4].quantile(0.75)\n",
    "IQR = Q3 - Q1\n",
    "df_out = df2[~((df2 < (Q1 - 2.5 * IQR)) | (df2 > (Q3 + 2.5 * IQR)))]\n",
    "[Q3 + 2.5 * IQR, Q1 - 2.5 * IQR]"
   ]
  },
  {
   "cell_type": "code",
   "execution_count": null,
   "metadata": {
    "pycharm": {
     "name": "#%%\n"
    }
   },
   "outputs": [],
   "source": [
    "df_out = df_out.dropna(how='any')\n",
    "print(df_out)"
   ]
  },
  {
   "cell_type": "code",
   "execution_count": null,
   "metadata": {
    "pycharm": {
     "name": "#%%\n"
    }
   },
   "outputs": [],
   "source": [
    "import seaborn as sns\n",
    "sns.boxplot(data=df_out.iloc[:,1:4])"
   ]
  },
  {
   "cell_type": "code",
   "execution_count": 16,
   "metadata": {
    "pycharm": {
     "name": "#%%\n"
    }
   },
   "outputs": [],
   "source": [
    "df_out.to_csv('../data/data_preprocessed.csv', index = False)"
   ]
  }
 ],
 "metadata": {
  "interpreter": {
   "hash": "bf869eaf1193cecdef84d5f3d0766ccdff012caf667c5927a24e3f2338ae7c07"
  },
  "kernelspec": {
   "display_name": "Python 3.10.4 ('mobile')",
   "language": "python",
   "name": "python3"
  },
  "language_info": {
   "codemirror_mode": {
    "name": "ipython",
    "version": 3
   },
   "file_extension": ".py",
   "mimetype": "text/x-python",
   "name": "python",
   "nbconvert_exporter": "python",
   "pygments_lexer": "ipython3",
   "version": "3.10.4"
  }
 },
 "nbformat": 4,
 "nbformat_minor": 2
}