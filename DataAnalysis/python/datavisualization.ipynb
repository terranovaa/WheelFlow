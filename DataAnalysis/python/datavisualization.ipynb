{
 "cells": [
  {
   "cell_type": "code",
   "execution_count": null,
   "id": "86aa1930",
   "metadata": {
    "pycharm": {
     "name": "#%%\n",
     "is_executing": true
    }
   },
   "outputs": [],
   "source": [
    "import pandas as pd\n",
    "df = pd.read_csv('../data/data_preprocessed.csv')"
   ]
  },
  {
   "cell_type": "code",
   "execution_count": null,
   "id": "860b18df",
   "metadata": {
    "pycharm": {
     "name": "#%%\n"
    }
   },
   "outputs": [],
   "source": [
    "print(df)"
   ]
  },
  {
   "cell_type": "code",
   "execution_count": 4,
   "id": "185d3d17",
   "metadata": {
    "pycharm": {
     "name": "#%%\n"
    }
   },
   "outputs": [],
   "source": [
    "df = df.iloc[:,1:5]"
   ]
  },
  {
   "cell_type": "code",
   "execution_count": 5,
   "id": "096121a4",
   "metadata": {
    "pycharm": {
     "name": "#%%\n"
    }
   },
   "outputs": [
    {
     "name": "stdout",
     "output_type": "stream",
     "text": [
      "1949683\n",
      "4\n"
     ]
    }
   ],
   "source": [
    "n_samples, n_features = df.shape\n",
    "print(n_samples)\n",
    "print(n_features)"
   ]
  },
  {
   "cell_type": "code",
   "execution_count": null,
   "id": "91666c9d",
   "metadata": {
    "pycharm": {
     "name": "#%%\n"
    }
   },
   "outputs": [],
   "source": [
    "print(df)"
   ]
  },
  {
   "cell_type": "code",
   "execution_count": null,
   "id": "cb47b9e0",
   "metadata": {
    "pycharm": {
     "name": "#%%\n"
    }
   },
   "outputs": [],
   "source": [
    "import seaborn as sns\n",
    "sns.boxplot(data=df.iloc[:,0:4], x=\"ACC\", y=\"CLASS\")"
   ]
  },
  {
   "cell_type": "code",
   "execution_count": null,
   "id": "467ab5dd",
   "metadata": {
    "pycharm": {
     "name": "#%%\n"
    }
   },
   "outputs": [],
   "source": [
    "import seaborn as sns\n",
    "sns.boxplot(data=df.iloc[:,0:4], x=\"GYR\", y=\"CLASS\")"
   ]
  },
  {
   "cell_type": "code",
   "execution_count": null,
   "id": "5807913e",
   "metadata": {
    "pycharm": {
     "name": "#%%\n"
    }
   },
   "outputs": [],
   "source": [
    "import seaborn as sns\n",
    "sns.boxplot(data=df.iloc[:,0:4], x=\"MAG\", y=\"CLASS\")"
   ]
  },
  {
   "cell_type": "code",
   "execution_count": null,
   "id": "5c76afa0",
   "metadata": {
    "pycharm": {
     "name": "#%%\n"
    }
   },
   "outputs": [],
   "source": [
    "import seaborn as sns\n",
    "sns.displot(df, x=\"CLASS\", hue=\"CLASS\")"
   ]
  },
  {
   "cell_type": "code",
   "execution_count": null,
   "id": "5a976570",
   "metadata": {
    "pycharm": {
     "name": "#%%\n"
    }
   },
   "outputs": [],
   "source": [
    "import seaborn as sns\n",
    "sns.set_theme(style=\"ticks\")\n",
    "sns.pairplot(df.iloc[:,0:4], hue=\"CLASS\")"
   ]
  }
 ],
 "metadata": {
  "interpreter": {
   "hash": "bf869eaf1193cecdef84d5f3d0766ccdff012caf667c5927a24e3f2338ae7c07"
  },
  "kernelspec": {
   "display_name": "Python 3.10.4 ('mobile')",
   "language": "python",
   "name": "python3"
  },
  "language_info": {
   "codemirror_mode": {
    "name": "ipython",
    "version": 3
   },
   "file_extension": ".py",
   "mimetype": "text/x-python",
   "name": "python",
   "nbconvert_exporter": "python",
   "pygments_lexer": "ipython3",
   "version": "3.10.4"
  }
 },
 "nbformat": 4,
 "nbformat_minor": 5
}