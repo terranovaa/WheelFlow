{
 "cells": [
  {
   "cell_type": "code",
   "execution_count": 1,
   "metadata": {
    "collapsed": false,
    "pycharm": {
     "name": "#%%\n"
    }
   },
   "outputs": [],
   "source": [
    "import pandas as pd\n",
    "df = pd.read_csv('../data/data_segmented_overlap03_win06.csv')"
   ]
  },
  {
   "cell_type": "code",
   "execution_count": null,
   "metadata": {
    "collapsed": false,
    "pycharm": {
     "name": "#%%\n"
    }
   },
   "outputs": [],
   "source": [
    "print(df.columns)"
   ]
  },
  {
   "cell_type": "code",
   "execution_count": null,
   "metadata": {
    "collapsed": false,
    "pycharm": {
     "name": "#%%\n"
    }
   },
   "outputs": [],
   "source": [
    "print(df)"
   ]
  },
  {
   "cell_type": "code",
   "execution_count": null,
   "metadata": {
    "collapsed": false,
    "pycharm": {
     "name": "#%%\n"
    }
   },
   "outputs": [],
   "source": [
    "newNames = []\n",
    "for element in [\"ACC_WV1\", \"ACC_WV2\",  \"GYR_WV1\", \"GYR_WV2\", \"MAG_WV1\", \"MAG_WV2\",\"ACC\", \"GYR\", \"MAG\"]:\n",
    "         for feature in [\"MIN\", \"MAX\", \"RANGE\", \"KURTOSIS\", \"SKEWNESS\", \"STD\", \"MEAN\", \"MEDIAN\", \"ENERGY\", \"Q1\", \"Q3\", \"PEAKSLEN\", \"RMS\"]:\n",
    "                newNames.append(element + \"_\" + feature)\n",
    "newNames.append(\"CLASS\")\n",
    "print(newNames)\n",
    "print(len(newNames))"
   ]
  },
  {
   "cell_type": "code",
   "execution_count": 5,
   "metadata": {
    "collapsed": false,
    "pycharm": {
     "name": "#%%\n"
    }
   },
   "outputs": [],
   "source": [
    "df.columns = newNames"
   ]
  },
  {
   "cell_type": "code",
   "execution_count": null,
   "metadata": {
    "collapsed": false,
    "pycharm": {
     "name": "#%%\n"
    }
   },
   "outputs": [],
   "source": [
    "print(df)"
   ]
  }
 ],
 "metadata": {
  "interpreter": {
   "hash": "bf869eaf1193cecdef84d5f3d0766ccdff012caf667c5927a24e3f2338ae7c07"
  },
  "kernelspec": {
   "display_name": "Python 3.10.4 ('mobile')",
   "language": "python",
   "name": "python3"
  },
  "language_info": {
   "codemirror_mode": {
    "name": "ipython",
    "version": 3
   },
   "file_extension": ".py",
   "mimetype": "text/x-python",
   "name": "python",
   "nbconvert_exporter": "python",
   "pygments_lexer": "ipython3",
   "version": "3.10.4"
  }
 },
 "nbformat": 4,
 "nbformat_minor": 5
}