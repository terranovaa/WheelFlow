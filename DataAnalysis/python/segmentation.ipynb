{
 "cells": [
  {
   "cell_type": "code",
   "execution_count": 1,
   "id": "0dd202c9",
   "metadata": {
    "pycharm": {
     "name": "#%%\n"
    }
   },
   "outputs": [],
   "source": [
    "import pandas as pd\n",
    "import math\n",
    "import pywt\n",
    "import scipy.signal"
   ]
  },
  {
   "cell_type": "code",
   "execution_count": 2,
   "id": "4030623d",
   "metadata": {
    "pycharm": {
     "name": "#%%\n"
    }
   },
   "outputs": [],
   "source": [
    "# function for extracting all the features from a given signal\n",
    "def extract(signal):\n",
    "    \n",
    "   min = signal.min()\n",
    "   max = signal.max()\n",
    "   peaks = scipy.signal.find_peaks(signal)\n",
    "   return [\n",
    "        min,\n",
    "        max,\n",
    "        max - min,\n",
    "        signal.kurtosis(),\n",
    "        signal.skew(),\n",
    "        signal.std(),\n",
    "        signal.mean(),\n",
    "        # signal.mode(),\n",
    "        signal.median(),\n",
    "        (signal**2).sum(),\n",
    "        signal.quantile(0.25),\n",
    "        signal.quantile(0.75),\n",
    "        len(peaks),\n",
    "        math.sqrt((signal**2).sum()/signal.size)\n",
    "     ]"
   ]
  },
  {
   "cell_type": "code",
   "execution_count": null,
   "id": "db81db70",
   "metadata": {
    "pycharm": {
     "name": "#%%\n"
    }
   },
   "outputs": [],
   "source": [
    "#assume it's cleaned\n",
    "dataset = pd.read_csv ('data/data_preprocessed.csv',delimiter = \",\")\n",
    "extracted_dataset = []\n",
    "\n",
    "#constants\n",
    "OFFSET = 1\n",
    "OVERLAP = 0.4\n",
    "WINDOW = 0.9\n",
    "NUM_ROWS = dataset.shape[0]\n",
    "\n",
    "start_index = 0\n",
    "end_index = 1\n",
    "\n",
    "while end_index < NUM_ROWS:\n",
    "    \n",
    "    #find windows in which consecutive rows are recorded less than 1 second apart\n",
    "    while end_index < NUM_ROWS -1 and pd.Timedelta(pd.Timestamp(dataset.iloc[end_index + 1][0]) - pd.Timestamp(dataset.iloc[end_index][0])).seconds < OFFSET :\n",
    "        end_index += 1 \n",
    "\n",
    "    \n",
    "    macrowindow = dataset.iloc[start_index:end_index]\n",
    "    \n",
    "    NUM_ROWS_MACRO = macrowindow.shape[0]\n",
    "    start_window = 0\n",
    "    end_window = 1\n",
    "    \n",
    "    # find records inside those macrowindows within a window of WINDOW seconds\n",
    "    while end_window < NUM_ROWS_MACRO:\n",
    "        \n",
    "        found = -1;\n",
    "        while end_window < NUM_ROWS_MACRO -1 and pd.Timedelta(pd.Timestamp(dataset.iloc[end_window + 1][0]) - pd.Timestamp(dataset.iloc[start_window][0])).microseconds < WINDOW * 1000 * 1000 :\n",
    "            # handling of overlap. Find first record apart from starting record for WINDOW - OVERLAP seconds\n",
    "            if(found == -1 and pd.Timedelta(pd.Timestamp(dataset.iloc[end_window + 1][0]) - pd.Timestamp(dataset.iloc[start_window][0])).microseconds >= (WINDOW - OVERLAP)*1000 * 1000):\n",
    "                start_window = end_window + 1 \n",
    "                found = 0\n",
    "                \n",
    "            end_window += 1\n",
    "            \n",
    "        window = macrowindow.iloc[start_window:end_window]\n",
    "        #update indexes for segmentation\n",
    "        if(found == -1):\n",
    "            start_window = end_window + 1\n",
    "            \n",
    "        end_window += 1\n",
    "\n",
    "        if window.shape[0] == 0:\n",
    "            continue\n",
    "\n",
    "        if pd.Timedelta(pd.Timestamp(window.iloc[-1][0]) - pd.Timestamp(window.iloc[0][0])).microseconds < WINDOW * 1000 * 1000 / 2 :\n",
    "            continue\n",
    "\n",
    "        NUM_ROWS_WINDOW = window.shape[0]\n",
    "        \n",
    "        #FEATURE EXTRACTION\n",
    "        \n",
    "        accelerometer = window.iloc[:,1]\n",
    "        gyroscope = window.iloc[:,2]\n",
    "        magnetometer = window.iloc[:,3]\n",
    "        \n",
    "        #Wavelet transformations of the singnals coming from the sensors\n",
    "        coefficients = []\n",
    "\n",
    "        print('new acc:')\n",
    "        print(accelerometer)\n",
    "        \n",
    "        coeff_acc = pywt.dwt(accelerometer,wavelet = 'db1')\n",
    "        for c in coeff_acc:\n",
    "            coefficients.append(pd.Series(c))\n",
    "            \n",
    "        coeff_gyr = pywt.dwt(gyroscope,wavelet = 'db1')\n",
    "        for c in coeff_gyr:\n",
    "            coefficients.append(pd.Series(c))\n",
    "            \n",
    "        coeff_mag = pywt.dwt(magnetometer,wavelet = 'db1')\n",
    "        for c in coeff_mag:\n",
    "            coefficients.append(pd.Series(c))\n",
    "            \n",
    "        coefficients.append(accelerometer)\n",
    "        coefficients.append(gyroscope)\n",
    "        coefficients.append(magnetometer)\n",
    "        \n",
    "        rows = []\n",
    "        for coefficient in coefficients:\n",
    "            #extract features\n",
    "            rows = rows + extract(coefficient)\n",
    "  \n",
    "        # Add label to the row\n",
    "        rows += [window.iloc[0][-1]]\n",
    "        # print(rows)\n",
    "\n",
    "        # add the row to the new dataframe\n",
    "        extracted_dataset.append(rows)\n",
    "        \n",
    "    \n",
    "             \n",
    "    start_index = end_index + 1 \n",
    "    end_index += 1\n",
    "    \n",
    "new_dataset = pd.DataFrame(extracted_dataset)\n",
    "print(new_dataset)\n",
    "new_dataset.to_csv('data/data_segmented_'+ str(WINDOW) + '_' + str(OVERLAP) + '.csv', index = False)"
   ]
  }
 ],
 "metadata": {
  "interpreter": {
   "hash": "bf869eaf1193cecdef84d5f3d0766ccdff012caf667c5927a24e3f2338ae7c07"
  },
  "kernelspec": {
   "display_name": "Python 3.10.4 ('mobile')",
   "language": "python",
   "name": "python3"
  },
  "language_info": {
   "codemirror_mode": {
    "name": "ipython",
    "version": 3
   },
   "file_extension": ".py",
   "mimetype": "text/x-python",
   "name": "python",
   "nbconvert_exporter": "python",
   "pygments_lexer": "ipython3",
   "version": "3.10.4"
  }
 },
 "nbformat": 4,
 "nbformat_minor": 5
}
