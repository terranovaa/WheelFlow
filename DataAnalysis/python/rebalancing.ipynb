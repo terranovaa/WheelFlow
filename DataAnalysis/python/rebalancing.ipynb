{
 "cells": [
  {
   "cell_type": "code",
   "execution_count": 1,
   "id": "979565df",
   "metadata": {
    "pycharm": {
     "name": "#%%\n"
    }
   },
   "outputs": [],
   "source": [
    "import pandas as pd\n",
    "df = pd.read_csv('../data/data_segmented_06_03.csv')"
   ]
  },
  {
   "cell_type": "code",
   "execution_count": 2,
   "metadata": {
    "collapsed": false,
    "pycharm": {
     "name": "#%%\n"
    }
   },
   "outputs": [],
   "source": [
    "def rename_features(df):\n",
    "    # rename features\n",
    "    newNames = []\n",
    "    for element in [\"ACC_WV1\", \"ACC_WV2\",  \"GYR_WV1\", \"GYR_WV2\", \"MAG_WV1\", \"MAG_WV2\",\"ACC\", \"GYR\", \"MAG\"]:\n",
    "         for feature in [\"MIN\", \"MAX\", \"RANGE\", \"KURTOSIS\", \"SKEWNESS\", \"STD\", \"MEAN\", \"MEDIAN\", \"ENERGY\", \"Q1\", \"Q3\", \"PEAKSLEN\", \"RMS\"]:\n",
    "                newNames.append(element + \"_\" + feature)\n",
    "    newNames.append(\"CLASS\")\n",
    "    df.columns = newNames\n",
    "    return df"
   ]
  },
  {
   "cell_type": "code",
   "execution_count": null,
   "id": "93acf178",
   "metadata": {
    "pycharm": {
     "name": "#%%\n"
    }
   },
   "outputs": [],
   "source": [
    "import seaborn as sns\n",
    "df = rename_features(df)\n",
    "sns.displot(df, x=\"CLASS\", hue=\"CLASS\")"
   ]
  },
  {
   "cell_type": "code",
   "execution_count": 4,
   "id": "b4822a86",
   "metadata": {
    "pycharm": {
     "name": "#%%\n"
    }
   },
   "outputs": [],
   "source": [
    "# modifica indici\n",
    "X = df.iloc[:,:-1]\n",
    "y = df.iloc[:,-1]"
   ]
  },
  {
   "cell_type": "code",
   "execution_count": null,
   "id": "0970f0cd",
   "metadata": {
    "pycharm": {
     "name": "#%%\n"
    }
   },
   "outputs": [],
   "source": [
    "from collections import Counter\n",
    "from imblearn.over_sampling import SMOTE\n",
    "from imblearn.under_sampling import RandomUnderSampler\n",
    "from imblearn.pipeline import Pipeline\n",
    "counter = Counter(y)\n",
    "print(counter)\n",
    "over = SMOTE(sampling_strategy='all')\n",
    "under = RandomUnderSampler(sampling_strategy='all')\n",
    "steps = [('o', over), ('u', under)]\n",
    "pipeline = Pipeline(steps=steps)\n",
    "X, y = pipeline.fit_resample(X, y)\n",
    "counter = Counter(y)\n",
    "print(counter)"
   ]
  },
  {
   "cell_type": "code",
   "execution_count": null,
   "id": "4997ddd2",
   "metadata": {
    "pycharm": {
     "name": "#%%\n"
    }
   },
   "outputs": [],
   "source": [
    "import seaborn as sns\n",
    "df = pd.concat([X, pd.DataFrame(y)], axis=1)\n",
    "sns.displot(df, x=\"CLASS\", hue=\"CLASS\")"
   ]
  }
 ],
 "metadata": {
  "interpreter": {
   "hash": "bf869eaf1193cecdef84d5f3d0766ccdff012caf667c5927a24e3f2338ae7c07"
  },
  "kernelspec": {
   "display_name": "Python 3.10.4 ('mobile')",
   "language": "python",
   "name": "python3"
  },
  "language_info": {
   "codemirror_mode": {
    "name": "ipython",
    "version": 3
   },
   "file_extension": ".py",
   "mimetype": "text/x-python",
   "name": "python",
   "nbconvert_exporter": "python",
   "pygments_lexer": "ipython3",
   "version": "3.10.4"
  }
 },
 "nbformat": 4,
 "nbformat_minor": 5
}
