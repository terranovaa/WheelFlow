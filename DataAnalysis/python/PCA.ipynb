{
 "cells": [
  {
   "cell_type": "code",
   "execution_count": 1,
   "id": "cd7edc39",
   "metadata": {
    "pycharm": {
     "name": "#%%\n"
    }
   },
   "outputs": [],
   "source": [
    "import pandas as pd\n",
    "df = pd.read_csv('../data/data.csv')"
   ]
  },
  {
   "cell_type": "code",
   "execution_count": null,
   "metadata": {
    "collapsed": false,
    "pycharm": {
     "name": "#%%\n"
    }
   },
   "outputs": [],
   "source": [
    "print(df.iloc[:,:-1])"
   ]
  },
  {
   "cell_type": "code",
   "execution_count": null,
   "id": "6cf08d95",
   "metadata": {
    "pycharm": {
     "name": "#%%\n"
    }
   },
   "outputs": [],
   "source": [
    "import numpy as np\n",
    "import seaborn as sns\n",
    "from matplotlib import pyplot as plt\n",
    "from sklearn.decomposition import PCA\n",
    "pca = PCA(n_components=3)\n",
    "pca_fit = pca.fit_transform(df.iloc[:,:-1])\n",
    "df_pca = pd.DataFrame(data=pca_fit, columns=['PC1','PC2','PC3'])\n",
    "df_pca.head()\n",
    "fig, ax = plt.subplots(2, 2, figsize=(15,8))\n",
    "sns.scatterplot(data=df_pca, x='PC1', y='PC2',ax=ax[0][0])\n",
    "sns.scatterplot(data=df_pca, x='PC1', y='PC3',ax=ax[0][1])\n",
    "sns.scatterplot(data=df_pca, x='PC2', y='PC3',ax=ax[1][0])\n",
    "print(pca.explained_variance_ratio_)\n",
    "print(pca.explained_variance_ratio_.cumsum())\n",
    "fig.delaxes(ax[1][1])"
   ]
  },
  {
   "cell_type": "code",
   "execution_count": null,
   "id": "7750882b",
   "metadata": {
    "pycharm": {
     "name": "#%%\n"
    }
   },
   "outputs": [],
   "source": [
    "# Cumulative explained variance\n",
    "plt.bar(range(1,len(pca.explained_variance_ratio_ )+1),pca.explained_variance_ratio_ )\n",
    "plt.ylabel('Explained variance')\n",
    "plt.xlabel('Components')\n",
    "plt.plot(range(1,len(pca.explained_variance_ratio_ )+1),\n",
    "         np.cumsum(pca.explained_variance_ratio_),\n",
    "         c='red',\n",
    "         label=\"Cumulative Explained Variance\")\n",
    "plt.legend(loc='upper left')"
   ]
  },
  {
   "cell_type": "code",
   "execution_count": null,
   "id": "b2afa98b",
   "metadata": {
    "pycharm": {
     "name": "#%%\n"
    }
   },
   "outputs": [],
   "source": [
    "# Trial bi-plot, understanding the need of standardization\n",
    "def my_plot(score, coeff, labels=None):\n",
    "    xs = score[:,0]\n",
    "    ys = score[:,1]\n",
    "    n = coeff.shape[0]\n",
    "    scalex = 1.0/(xs.max() - xs.min())\n",
    "    scaley = 1.0/(ys.max() - ys.min())\n",
    "    plt.scatter(xs * scalex,ys * scaley,s=5)\n",
    "    for i in range(n):\n",
    "        plt.arrow(0, 0, coeff[i,0], coeff[i,1],color = 'r',alpha = 0.5)\n",
    "        if labels is None:\n",
    "            plt.text(coeff[i,0]* 1.15, coeff[i,1] * 1.15, \"Var\"+str(i+1), color = 'red', ha = 'center', va = 'center')\n",
    "        else:\n",
    "            plt.text(coeff[i,0]* 1.15, coeff[i,1] * 1.15, labels[i], color = 'r', ha = 'center', va = 'center')\n",
    "\n",
    "    plt.xlabel(\"PC{}\".format(1))\n",
    "    plt.ylabel(\"PC{}\".format(2))\n",
    "    plt.grid()\n",
    "\n",
    "my_plot(pca_fit[:, 0:2], np.transpose(pca.components_[0:2, :]), list(df.columns))\n",
    "plt.show()"
   ]
  },
  {
   "cell_type": "code",
   "execution_count": null,
   "id": "0ab5eb88",
   "metadata": {
    "pycharm": {
     "name": "#%%\n"
    }
   },
   "outputs": [],
   "source": [
    "# standardazing the matrix\n",
    "df_norm = pd.DataFrame(columns=df.iloc[:,:-1].columns)\n",
    "for column in df.iloc[:,:-1]:\n",
    "    df_norm[column] = (df[column] - df[column].mean())/df[column].std(ddof=0)\n",
    "df_norm['CLASS'] = df.iloc[:,-1];\n",
    "print(df_norm)"
   ]
  },
  {
   "cell_type": "code",
   "execution_count": null,
   "id": "299c780e",
   "metadata": {
    "pycharm": {
     "name": "#%%\n"
    }
   },
   "outputs": [],
   "source": [
    "# Repeating PCA computation\n",
    "\n",
    "import numpy as np\n",
    "import seaborn as sns\n",
    "from matplotlib import pyplot as plt\n",
    "from sklearn.decomposition import PCA\n",
    "pca = PCA(n_components=3)\n",
    "pca_fit = pca.fit_transform(df_norm.iloc[:,:-1])\n",
    "df_pca = pd.DataFrame(data=pca_fit, columns=['PC1','PC2','PC3'])\n",
    "df_pca.head()\n",
    "fig, ax = plt.subplots(2, 2, figsize=(15,8))\n",
    "sns.scatterplot(data=df_pca, x='PC1', y='PC2',ax=ax[0][0])\n",
    "sns.scatterplot(data=df_pca, x='PC1', y='PC3',ax=ax[0][1])\n",
    "sns.scatterplot(data=df_pca, x='PC2', y='PC3',ax=ax[1][0])\n",
    "print(pca.explained_variance_ratio_)\n",
    "print(pca.explained_variance_ratio_.cumsum())\n",
    "fig.delaxes(ax[1][1])"
   ]
  },
  {
   "cell_type": "code",
   "execution_count": null,
   "id": "a9f5d14d",
   "metadata": {
    "pycharm": {
     "name": "#%%\n"
    }
   },
   "outputs": [],
   "source": [
    "# Cumulative explained variance\n",
    "plt.bar(range(1,len(pca.explained_variance_ratio_ )+1),pca.explained_variance_ratio_ )\n",
    "plt.ylabel('Explained variance')\n",
    "plt.xlabel('Components')\n",
    "plt.plot(range(1,len(pca.explained_variance_ratio_ )+1),\n",
    "         np.cumsum(pca.explained_variance_ratio_),\n",
    "         c='red',\n",
    "         label=\"Cumulative Explained Variance\")\n",
    "plt.legend(loc='upper left')"
   ]
  },
  {
   "cell_type": "code",
   "execution_count": null,
   "id": "b5b1d5af",
   "metadata": {
    "pycharm": {
     "name": "#%%\n"
    }
   },
   "outputs": [],
   "source": [
    "# Biplot of the first two components\n",
    "def my_plot(score, coeff, index1, index2, labels=None):\n",
    "    xs = score[:,index1]\n",
    "    ys = score[:,index2]\n",
    "    n = coeff.shape[0]\n",
    "    scalex = 1.0/(xs.max() - xs.min())\n",
    "    scaley = 1.0/(ys.max() - ys.min())\n",
    "    plt.scatter(xs * scalex,ys * scaley,s=5)\n",
    "    for i in range(n):\n",
    "        plt.arrow(0, 0, coeff[i,0], coeff[i,1],color = 'r',alpha = 0.5)\n",
    "        if labels is None:\n",
    "            plt.text(coeff[i,0]* 1.15, coeff[i,1] * 1.15, \"Var\"+str(i+1), color = 'red', ha = 'center', va = 'center')\n",
    "        else:\n",
    "            plt.text(coeff[i,0]* 1.15, coeff[i,1] * 1.15, labels[i], color = 'r', ha = 'center', va = 'center')\n",
    "\n",
    "    plt.xlabel(\"PC{}\".format(index1+1))\n",
    "    plt.ylabel(\"PC{}\".format(index2+1))\n",
    "    plt.grid()\n",
    "\n",
    "my_plot(pca_fit[:, 0:3], np.transpose(pca.components_[0:3, :]), 0, 1, list(df_norm.iloc[:,:-1].columns))\n",
    "plt.show()"
   ]
  },
  {
   "cell_type": "code",
   "execution_count": null,
   "id": "bb196e52",
   "metadata": {
    "pycharm": {
     "name": "#%%\n"
    }
   },
   "outputs": [],
   "source": [
    "# Loadings matrix\n",
    "loadings = pca.components_\n",
    "num_pc = pca.n_features_\n",
    "pc_list = [\"PC\"+str(i) for i in list(range(1, num_pc+1))]\n",
    "loadings_df = pd.DataFrame.from_dict(dict(zip(pc_list, loadings)))\n",
    "loadings_df['variable'] = df_norm.iloc[:,1:10].columns.values\n",
    "loadings_df = loadings_df.set_index('variable')\n",
    "loadings_df"
   ]
  },
  {
   "cell_type": "code",
   "execution_count": null,
   "id": "a781ea65",
   "metadata": {
    "pycharm": {
     "name": "#%%\n"
    }
   },
   "outputs": [],
   "source": [
    "# Varimax rotation, other kind of rotation\n",
    "from factor_analyzer import FactorAnalyzer\n",
    "fa = FactorAnalyzer(n_factors=3, method='principal', rotation=\"varimax\")\n",
    "fa_fit = fa.fit_transform(df_norm.iloc[:,1:10])\n",
    "loadings = fa.loadings_\n",
    "fa.get_factor_variance()[2]"
   ]
  },
  {
   "cell_type": "code",
   "execution_count": null,
   "id": "0a9aa510",
   "metadata": {
    "pycharm": {
     "name": "#%%\n"
    }
   },
   "outputs": [],
   "source": [
    "# Varimax loadings matrix\n",
    "pd.DataFrame.from_records(loadings)"
   ]
  },
  {
   "cell_type": "code",
   "execution_count": null,
   "metadata": {
    "collapsed": false,
    "pycharm": {
     "name": "#%%\n"
    }
   },
   "outputs": [],
   "source": [
    "# New Principal Components after varimax \n",
    "df_fa = pd.DataFrame(data=fa_fit, columns=['PCV1', 'PCV2','PCV3'])\n",
    "df_fa.head()\n",
    "fig, ax = plt.subplots(2, 2, figsize=(15,8))\n",
    "sns.scatterplot(data=df_fa, x='PCV1', y='PCV2',ax=ax[0][0])\n",
    "sns.scatterplot(data=df_fa, x='PCV1', y='PCV3',ax=ax[0][1])\n",
    "sns.scatterplot(data=df_fa, x='PCV2', y='PCV3',ax=ax[1][0])\n",
    "fig.delaxes(ax[1][1])"
   ]
  },
  {
   "cell_type": "code",
   "execution_count": null,
   "metadata": {
    "collapsed": false,
    "pycharm": {
     "name": "#%%\n"
    }
   },
   "outputs": [],
   "source": [
    "df_norm.to_csv('../data/data_normalized.csv', index = False)"
   ]
  }
 ],
 "metadata": {
  "kernelspec": {
   "display_name": "Python 3 (ipykernel)",
   "language": "python",
   "name": "python3"
  },
  "language_info": {
   "codemirror_mode": {
    "name": "ipython",
    "version": 3
   },
   "file_extension": ".py",
   "mimetype": "text/x-python",
   "name": "python",
   "nbconvert_exporter": "python",
   "pygments_lexer": "ipython3",
   "version": "3.9.7"
  }
 },
 "nbformat": 4,
 "nbformat_minor": 5
}